{
 "cells": [
  {
   "cell_type": "markdown",
   "id": "52c85ce2",
   "metadata": {},
   "source": [
    "# Assessing similarities and differences of the different cancer-specifc clusters \n"
   ]
  },
  {
   "cell_type": "code",
   "execution_count": null,
   "metadata": {},
   "outputs": [],
   "source": [
    "from anndata import AnnData\n",
    "from collections import OrderedDict\n",
    "import anndata as ad\n",
    "import json\n",
    "import matplotlib.pyplot as plt\n",
    "import numpy as np\n",
    "import os\n",
    "import pandas as pd\n",
    "import scanpy as sc\n",
    "import scipy\n",
    "import scvi\n",
    "import seaborn as sns\n",
    "import time\n",
    "\n"
   ]
  },
  {
   "cell_type": "code",
   "execution_count": null,
   "metadata": {},
   "outputs": [],
   "source": [
    "folder_path = \"/home/withnell/PHD_bcells/Zara_datasets_all_cancer/Datasets_and_scran_after_1_below/newfiguresandfiles/\"\n",
    "\n",
    "# List of tissues to load and process\n",
    "tissues = [\"BRCA\", \"COAD\", \"LC\", \"RCC\"]\n",
    "\n",
    "processed_data_list = []\n",
    "\n",
    "# Function to add cancer_type metadata for each dataset \n",
    "def add_cancer_type(adata, tissue):\n",
    "\n",
    "    adata.obs['cancer_type'] = tissue\n",
    "    return adata\n",
    "\n",
    "for tissue in tissues:\n",
    "    # Define the input file path\n",
    "    file_name = f\"{tissue}_adata_final2.h5ad\"\n",
    "    adata_filepath = os.path.join(folder_path, file_name)\n",
    "\n",
    "    if os.path.exists(adata_filepath):\n",
    "        print(f\"Processing file: {adata_filepath}\")\n",
    "\n",
    "        adata = sc.read_h5ad(adata_filepath)\n",
    "\n",
    "        # Add cancer_type information to the AnnData object\n",
    "        adata = add_cancer_type(adata, tissue)\n",
    "\n",
    "        processed_data_list.append(adata)\n",
    "    else:\n",
    "        print(f\"File not found, skipping: {adata_filepath}\")\n",
    "\n",
    "if processed_data_list:\n",
    "\n",
    "    combined_adata = processed_data_list[0].concatenate(\n",
    "        processed_data_list[1:], batch_key=\"batch\", index_unique=None\n",
    "    )\n",
    "    print(\"All datasets successfully concatenated.\")\n",
    "else:\n",
    "    print(\"No datasets were loaded.\")\n"
   ]
  },
  {
   "cell_type": "code",
   "execution_count": null,
   "metadata": {},
   "outputs": [],
   "source": [
    "combined_adata.X = combined_adata.layers[\"counts\"].copy()"
   ]
  },
  {
   "cell_type": "code",
   "execution_count": null,
   "metadata": {},
   "outputs": [],
   "source": [
    "combined_adata.obs['patient'] = combined_adata.obs['patient'].astype('category')"
   ]
  },
  {
   "cell_type": "code",
   "execution_count": null,
   "metadata": {},
   "outputs": [],
   "source": [
    "combined_adata.obs['cancerdataid'] = combined_adata.obs['dataid'].astype(str) + \"_\" + combined_adata.obs['cancer_type'].astype(str)"
   ]
  },
  {
   "cell_type": "code",
   "execution_count": null,
   "metadata": {},
   "outputs": [],
   "source": [
    "combined_adatafullgenes = combined_adata.copy()"
   ]
  },
  {
   "cell_type": "code",
   "execution_count": null,
   "metadata": {},
   "outputs": [],
   "source": [
    "import scanpy as sc\n",
    "\n",
    "batches = combined_adata.obs['cancerdataid'].unique()\n",
    "\n",
    "new = {}\n",
    "\n",
    "# Process each dataset separately\n",
    "for batch in batches:\n",
    "    subset_adata = combined_adata[combined_adata.obs['cancerdataid'] == batch].copy()\n",
    "    sc.pp.normalize_total(subset_adata, target_sum=1e4)\n",
    "    sc.pp.log1p(subset_adata)\n",
    "    new[batch] = subset_adata\n"
   ]
  },
  {
   "cell_type": "code",
   "execution_count": null,
   "metadata": {},
   "outputs": [],
   "source": [
    "combined_adata_new = ad.concat(new, axis=0, join='outer')"
   ]
  },
  {
   "cell_type": "code",
   "execution_count": null,
   "metadata": {},
   "outputs": [],
   "source": [
    "\n",
    "sc.pp.highly_variable_genes(combined_adata_new, batch_key='cancerdataid', n_top_genes = 8000,layer = \"counts\", flavor=\"seurat_v3_paper\",subset = False"
   ]
  },
  {
   "cell_type": "code",
   "execution_count": null,
   "metadata": {},
   "outputs": [],
   "source": [
    "import scanpy as sc\n",
    "\n",
    "batches = combined_adata.obs['cancerdataid'].unique()\n",
    "\n",
    "new = {}\n",
    "\n",
    "for batch in batches:\n",
    "    subset_adata = combined_adata[combined_adata.obs['cancerdataid'] == batch].copy()\n",
    "    sc.pp.scale(subset_adata, max_value=10)\n",
    "\n",
    "    new[batch] = subset_adata\n",
    "\n"
   ]
  },
  {
   "cell_type": "code",
   "execution_count": null,
   "metadata": {},
   "outputs": [],
   "source": [
    "combined_adata = ad.concat(new, axis=0, join='outer')"
   ]
  },
  {
   "cell_type": "code",
   "execution_count": null,
   "metadata": {},
   "outputs": [],
   "source": [
    "combined_adata.uns = combined_adata_new.uns\n",
    "combined_adata.var = combined_adata_new.var\n"
   ]
  },
  {
   "cell_type": "code",
   "execution_count": null,
   "metadata": {},
   "outputs": [],
   "source": [
    "highly_variable_genes = combined_adata.var['highly_variable']\n",
    "\n",
    "hv_adata = combined_adata[:, highly_variable_genes].copy()\n"
   ]
  },
  {
   "cell_type": "code",
   "execution_count": null,
   "metadata": {},
   "outputs": [],
   "source": [
    "scvi.model.SCVI.setup_anndata(\n",
    "  hv_adata,\n",
    "  layer=\"counts\",\n",
    "   categorical_covariate_keys=[\"dataid\", \"patient\"]\n",
    ")\n"
   ]
  },
  {
   "cell_type": "code",
   "execution_count": null,
   "metadata": {},
   "outputs": [],
   "source": [
    "model = scvi.model.SCVI(hv_adata,  n_layers=2, n_latent=30, gene_likelihood=\"nb\")\n"
   ]
  },
  {
   "cell_type": "code",
   "execution_count": null,
   "metadata": {},
   "outputs": [],
   "source": [
    "model.train(batch_size=130)"
   ]
  },
  {
   "cell_type": "code",
   "execution_count": null,
   "metadata": {},
   "outputs": [],
   "source": [
    "hv_adata.obsm[\"X_scvi_allcovariates_minustissue\"] = model.get_latent_representation()"
   ]
  },
  {
   "cell_type": "code",
   "execution_count": null,
   "metadata": {},
   "outputs": [],
   "source": [
    "hv_adata.X = hv_adata.layers[\"counts\"]\n",
    "denoised = model.get_normalized_expression(hv_adata, library_size=1e4)\n",
    "hv_adata.layers[\"denoised\"] = denoised\n"
   ]
  },
  {
   "cell_type": "code",
   "execution_count": null,
   "metadata": {},
   "outputs": [],
   "source": [
    "hv_adata.obs['SCVI_indiv_tissue'] = hv_adata.obs['leiden_clusters'].astype(str) + \"_\" + hv_adata.obs['cancer_type'].astype(str)\n",
    "hv_adata.obs['SCVI_indiv_tissue'].value_counts()\n",
    "hv_adata.write_h5ad(\"hv_adata_withalltissues.h5ad\")"
   ]
  },
  {
   "cell_type": "code",
   "execution_count": null,
   "metadata": {},
   "outputs": [],
   "source": [
    "hv_adata.X = hv_adata.layers['denoised'].copy()"
   ]
  },
  {
   "cell_type": "code",
   "execution_count": null,
   "metadata": {},
   "outputs": [],
   "source": [
    "# Extract scVI latent space coordinates and cluster labels\n",
    "latent_coords = hv_adata.obsm['X_scvi_allcovariates_minustissue']\n",
    "clusters = hv_adata.obs['SCVI_indiv_tissue']\n",
    "\n",
    "df_latent = pd.DataFrame(latent_coords, columns=[f'latent_{i+1}' for i in range(latent_coords.shape[1])])\n",
    "df_latent['cluster'] = clusters.values\n",
    "\n",
    "centroids_latent = df_latent.groupby('cluster').mean().iloc[:, :-1]\n",
    "\n",
    "distance_matrix_latent = pdist(centroids_latent.values, metric='cosine')\n",
    "distance_matrix_latent_square = squareform(distance_matrix_latent)\n",
    "\n",
    "linked = linkage(distance_matrix_latent, method='average')\n",
    "\n",
    "rcParams['pdf.fonttype'] = 42\n",
    "plt.figure(figsize=(10, 8))\n",
    "dendrogram(linked, labels=centroids_latent.index, orientation='top', leaf_rotation=90)\n",
    "plt.title('Dendrogram of Cluster Centroids (Cosine Similarity)')\n",
    "plt.xlabel('Clusters')\n",
    "plt.ylabel('Cosine Distance')\n",
    "plt.savefig('Dendrogram_of_Cluster_Centroids_fonttype2.pdf')\n",
    "plt.show()\n",
    "\n",
    "leaf_order = leaves_list(linked)\n",
    "ordered_distance_matrix = distance_matrix_latent_square[leaf_order, :][:, leaf_order]\n",
    "ordered_centroids = centroids_latent.index[leaf_order]\n",
    "\n",
    "rcParams['pdf.fonttype'] = 42\n",
    "\n",
    "plt.figure(figsize=(12, 10))\n",
    "sns.heatmap(ordered_distance_matrix, xticklabels=ordered_centroids, yticklabels=ordered_centroids, cmap='viridis')\n",
    "plt.title('Cosine Distance Matrix of Cluster Centroids (Reordered)')\n",
    "plt.savefig('Reordered_Cosine_Distance_Matrix_Heatmap2.pdf')\n",
    "plt.show()\n",
    "\n",
    "plt.figure(figsize=(12, 10))\n",
    "\n",
    "sns.heatmap(\n",
    "    ordered_distance_matrix,\n",
    "    xticklabels=ordered_centroids,\n",
    "    yticklabels=ordered_centroids,\n",
    "    cmap='coolwarm',\n",
    "    vmin=0.3,\n",
    "    vmax=1,\n",
    "    annot=False,\n",
    "    fmt='.2f',\n",
    "    linewidths=0.5\n",
    ")\n",
    "\n",
    "rcParams['pdf.fonttype'] = 42\n",
    "\n",
    "plt.title('Heatmap with Custom Color Cut-Offs')\n",
    "plt.savefig('Heatmap_with_Color_Cutoffs2.pdf')\n",
    "plt.show()\n"
   ]
  },
  {
   "cell_type": "code",
   "execution_count": null,
   "metadata": {},
   "outputs": [],
   "source": []
  },
  {
   "cell_type": "code",
   "execution_count": null,
   "metadata": {},
   "outputs": [],
   "source": []
  },
  {
   "cell_type": "code",
   "execution_count": null,
   "metadata": {},
   "outputs": [],
   "source": []
  }
 ],
 "metadata": {
  "language_info": {
   "name": "python"
  }
 },
 "nbformat": 4,
 "nbformat_minor": 2
}
